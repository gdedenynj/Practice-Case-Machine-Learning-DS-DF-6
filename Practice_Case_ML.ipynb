{
  "nbformat": 4,
  "nbformat_minor": 0,
  "metadata": {
    "colab": {
      "name": "Practice Case ML",
      "provenance": [],
      "collapsed_sections": []
    },
    "kernelspec": {
      "name": "python3",
      "display_name": "Python 3"
    },
    "language_info": {
      "name": "python"
    }
  },
  "cells": [
    {
      "cell_type": "markdown",
      "metadata": {
        "id": "jPZaXnTV8NDD"
      },
      "source": [
        "#Preprocessing Data"
      ]
    },
    {
      "cell_type": "markdown",
      "metadata": {
        "id": "6rU_4RrS8STT"
      },
      "source": [
        "Import data"
      ]
    },
    {
      "cell_type": "code",
      "metadata": {
        "id": "UVyPLb8pSeOi"
      },
      "source": [
        "import pandas as pd"
      ],
      "execution_count": null,
      "outputs": []
    },
    {
      "cell_type": "code",
      "metadata": {
        "id": "O4EX-fHWSwdN"
      },
      "source": [
        "dataML=pd.read_csv('ML_2_Fellow.csv', sep=',',encoding='latin1')"
      ],
      "execution_count": null,
      "outputs": []
    },
    {
      "cell_type": "markdown",
      "metadata": {
        "id": "nAgEFrpF8U4p"
      },
      "source": [
        "View data"
      ]
    },
    {
      "cell_type": "code",
      "metadata": {
        "colab": {
          "base_uri": "https://localhost:8080/",
          "height": 206
        },
        "id": "hKzHRxYiwHCe",
        "outputId": "4e337359-2ea5-435c-e8ea-8a71b0eb6096"
      },
      "source": [
        "dataML.head()"
      ],
      "execution_count": null,
      "outputs": [
        {
          "output_type": "execute_result",
          "data": {
            "text/html": [
              "<div>\n",
              "<style scoped>\n",
              "    .dataframe tbody tr th:only-of-type {\n",
              "        vertical-align: middle;\n",
              "    }\n",
              "\n",
              "    .dataframe tbody tr th {\n",
              "        vertical-align: top;\n",
              "    }\n",
              "\n",
              "    .dataframe thead th {\n",
              "        text-align: right;\n",
              "    }\n",
              "</style>\n",
              "<table border=\"1\" class=\"dataframe\">\n",
              "  <thead>\n",
              "    <tr style=\"text-align: right;\">\n",
              "      <th></th>\n",
              "      <th>Kode_Bayar</th>\n",
              "      <th>Kode_Barang</th>\n",
              "      <th>Barang</th>\n",
              "      <th>Jumlah</th>\n",
              "      <th>Tanggal_Transaksi</th>\n",
              "      <th>Harga_Satuan</th>\n",
              "      <th>Kode_Pelanggan</th>\n",
              "      <th>Negara</th>\n",
              "    </tr>\n",
              "  </thead>\n",
              "  <tbody>\n",
              "    <tr>\n",
              "      <th>0</th>\n",
              "      <td>536365</td>\n",
              "      <td>85123A</td>\n",
              "      <td>WHITE HANGING HEART T-LIGHT HOLDER</td>\n",
              "      <td>6.0</td>\n",
              "      <td>12/1/2010 8:26</td>\n",
              "      <td>2.55</td>\n",
              "      <td>17850.0</td>\n",
              "      <td>United Kingdom</td>\n",
              "    </tr>\n",
              "    <tr>\n",
              "      <th>1</th>\n",
              "      <td>536365</td>\n",
              "      <td>71053</td>\n",
              "      <td>WHITE METAL LANTERN</td>\n",
              "      <td>6.0</td>\n",
              "      <td>12/1/2010 8:26</td>\n",
              "      <td>3.39</td>\n",
              "      <td>17850.0</td>\n",
              "      <td>United Kingdom</td>\n",
              "    </tr>\n",
              "    <tr>\n",
              "      <th>2</th>\n",
              "      <td>536365</td>\n",
              "      <td>84406B</td>\n",
              "      <td>CREAM CUPID HEARTS COAT HANGER</td>\n",
              "      <td>8.0</td>\n",
              "      <td>12/1/2010 8:26</td>\n",
              "      <td>2.75</td>\n",
              "      <td>17850.0</td>\n",
              "      <td>United Kingdom</td>\n",
              "    </tr>\n",
              "    <tr>\n",
              "      <th>3</th>\n",
              "      <td>536365</td>\n",
              "      <td>84029G</td>\n",
              "      <td>KNITTED UNION FLAG HOT WATER BOTTLE</td>\n",
              "      <td>6.0</td>\n",
              "      <td>12/1/2010 8:26</td>\n",
              "      <td>3.39</td>\n",
              "      <td>17850.0</td>\n",
              "      <td>United Kingdom</td>\n",
              "    </tr>\n",
              "    <tr>\n",
              "      <th>4</th>\n",
              "      <td>536365</td>\n",
              "      <td>84029E</td>\n",
              "      <td>RED WOOLLY HOTTIE WHITE HEART.</td>\n",
              "      <td>6.0</td>\n",
              "      <td>12/1/2010 8:26</td>\n",
              "      <td>3.39</td>\n",
              "      <td>17850.0</td>\n",
              "      <td>United Kingdom</td>\n",
              "    </tr>\n",
              "  </tbody>\n",
              "</table>\n",
              "</div>"
            ],
            "text/plain": [
              "  Kode_Bayar Kode_Barang  ... Kode_Pelanggan          Negara\n",
              "0     536365      85123A  ...        17850.0  United Kingdom\n",
              "1     536365       71053  ...        17850.0  United Kingdom\n",
              "2     536365      84406B  ...        17850.0  United Kingdom\n",
              "3     536365      84029G  ...        17850.0  United Kingdom\n",
              "4     536365      84029E  ...        17850.0  United Kingdom\n",
              "\n",
              "[5 rows x 8 columns]"
            ]
          },
          "metadata": {
            "tags": []
          },
          "execution_count": 100
        }
      ]
    },
    {
      "cell_type": "code",
      "metadata": {
        "colab": {
          "base_uri": "https://localhost:8080/",
          "height": 300
        },
        "id": "gWODjmv6yplj",
        "outputId": "eb52fe64-2bd7-409d-f3f2-c979a89d3aa1"
      },
      "source": [
        "dataML.describe()"
      ],
      "execution_count": null,
      "outputs": [
        {
          "output_type": "execute_result",
          "data": {
            "text/html": [
              "<div>\n",
              "<style scoped>\n",
              "    .dataframe tbody tr th:only-of-type {\n",
              "        vertical-align: middle;\n",
              "    }\n",
              "\n",
              "    .dataframe tbody tr th {\n",
              "        vertical-align: top;\n",
              "    }\n",
              "\n",
              "    .dataframe thead th {\n",
              "        text-align: right;\n",
              "    }\n",
              "</style>\n",
              "<table border=\"1\" class=\"dataframe\">\n",
              "  <thead>\n",
              "    <tr style=\"text-align: right;\">\n",
              "      <th></th>\n",
              "      <th>Jumlah</th>\n",
              "      <th>Harga_Satuan</th>\n",
              "      <th>Kode_Pelanggan</th>\n",
              "    </tr>\n",
              "  </thead>\n",
              "  <tbody>\n",
              "    <tr>\n",
              "      <th>count</th>\n",
              "      <td>535874.000000</td>\n",
              "      <td>535874.000000</td>\n",
              "      <td>403182.000000</td>\n",
              "    </tr>\n",
              "    <tr>\n",
              "      <th>mean</th>\n",
              "      <td>9.587927</td>\n",
              "      <td>4.636533</td>\n",
              "      <td>15287.687868</td>\n",
              "    </tr>\n",
              "    <tr>\n",
              "      <th>std</th>\n",
              "      <td>153.292222</td>\n",
              "      <td>97.302232</td>\n",
              "      <td>1714.009551</td>\n",
              "    </tr>\n",
              "    <tr>\n",
              "      <th>min</th>\n",
              "      <td>-74215.000000</td>\n",
              "      <td>-11062.060000</td>\n",
              "      <td>12346.000000</td>\n",
              "    </tr>\n",
              "    <tr>\n",
              "      <th>25%</th>\n",
              "      <td>1.000000</td>\n",
              "      <td>1.250000</td>\n",
              "      <td>13952.000000</td>\n",
              "    </tr>\n",
              "    <tr>\n",
              "      <th>50%</th>\n",
              "      <td>3.000000</td>\n",
              "      <td>2.080000</td>\n",
              "      <td>15152.000000</td>\n",
              "    </tr>\n",
              "    <tr>\n",
              "      <th>75%</th>\n",
              "      <td>10.000000</td>\n",
              "      <td>4.130000</td>\n",
              "      <td>16791.000000</td>\n",
              "    </tr>\n",
              "    <tr>\n",
              "      <th>max</th>\n",
              "      <td>74215.000000</td>\n",
              "      <td>38970.000000</td>\n",
              "      <td>18287.000000</td>\n",
              "    </tr>\n",
              "  </tbody>\n",
              "</table>\n",
              "</div>"
            ],
            "text/plain": [
              "              Jumlah   Harga_Satuan  Kode_Pelanggan\n",
              "count  535874.000000  535874.000000   403182.000000\n",
              "mean        9.587927       4.636533    15287.687868\n",
              "std       153.292222      97.302232     1714.009551\n",
              "min    -74215.000000  -11062.060000    12346.000000\n",
              "25%         1.000000       1.250000    13952.000000\n",
              "50%         3.000000       2.080000    15152.000000\n",
              "75%        10.000000       4.130000    16791.000000\n",
              "max     74215.000000   38970.000000    18287.000000"
            ]
          },
          "metadata": {
            "tags": []
          },
          "execution_count": 101
        }
      ]
    },
    {
      "cell_type": "markdown",
      "metadata": {
        "id": "USxIVtXW8aic"
      },
      "source": [
        "Type Data"
      ]
    },
    {
      "cell_type": "code",
      "metadata": {
        "colab": {
          "base_uri": "https://localhost:8080/"
        },
        "id": "k6WoUz5UVE8t",
        "outputId": "db54c5ec-9031-444c-8d47-460b667aac2a"
      },
      "source": [
        "dataML.info()"
      ],
      "execution_count": null,
      "outputs": [
        {
          "output_type": "stream",
          "text": [
            "<class 'pandas.core.frame.DataFrame'>\n",
            "RangeIndex: 541909 entries, 0 to 541908\n",
            "Data columns (total 8 columns):\n",
            " #   Column             Non-Null Count   Dtype  \n",
            "---  ------             --------------   -----  \n",
            " 0   Kode_Bayar         541909 non-null  object \n",
            " 1   Kode_Barang        535874 non-null  object \n",
            " 2   Barang             534420 non-null  object \n",
            " 3   Jumlah             535874 non-null  float64\n",
            " 4   Tanggal_Transaksi  535874 non-null  object \n",
            " 5   Harga_Satuan       535874 non-null  float64\n",
            " 6   Kode_Pelanggan     403182 non-null  float64\n",
            " 7   Negara             535874 non-null  object \n",
            "dtypes: float64(3), object(5)\n",
            "memory usage: 33.1+ MB\n"
          ],
          "name": "stdout"
        }
      ]
    },
    {
      "cell_type": "code",
      "metadata": {
        "id": "ffPgjuxW8Jgd"
      },
      "source": [
        "#change object to datetime in Tanggal_Transaksi\n",
        "dataML['Tanggal_Transaksi']=pd.to_datetime(dataML['Tanggal_Transaksi'])"
      ],
      "execution_count": null,
      "outputs": []
    },
    {
      "cell_type": "markdown",
      "metadata": {
        "id": "0FpeTGi78iB4"
      },
      "source": [
        "Missing Value\n"
      ]
    },
    {
      "cell_type": "code",
      "metadata": {
        "colab": {
          "base_uri": "https://localhost:8080/"
        },
        "id": "kung1sS16itH",
        "outputId": "09f5fc7d-4562-4b3f-d707-1986af054c73"
      },
      "source": [
        "dataML.isnull().sum()"
      ],
      "execution_count": null,
      "outputs": [
        {
          "output_type": "execute_result",
          "data": {
            "text/plain": [
              "Kode_Bayar                0\n",
              "Kode_Barang            6035\n",
              "Barang                 7489\n",
              "Jumlah                 6035\n",
              "Tanggal_Transaksi      6035\n",
              "Harga_Satuan           6035\n",
              "Kode_Pelanggan       138727\n",
              "Negara                 6035\n",
              "dtype: int64"
            ]
          },
          "metadata": {
            "tags": []
          },
          "execution_count": 104
        }
      ]
    },
    {
      "cell_type": "code",
      "metadata": {
        "colab": {
          "base_uri": "https://localhost:8080/"
        },
        "id": "Z7Uxx5n0v3GU",
        "outputId": "9cbe6db3-4639-4ed2-d3a4-af6c5572ffa3"
      },
      "source": [
        "dataML.isnull().sum()/len(dataML)"
      ],
      "execution_count": null,
      "outputs": [
        {
          "output_type": "execute_result",
          "data": {
            "text/plain": [
              "Kode_Bayar           0.000000\n",
              "Kode_Barang          0.011137\n",
              "Barang               0.013820\n",
              "Jumlah               0.011137\n",
              "Tanggal_Transaksi    0.011137\n",
              "Harga_Satuan         0.011137\n",
              "Kode_Pelanggan       0.255997\n",
              "Negara               0.011137\n",
              "dtype: float64"
            ]
          },
          "metadata": {
            "tags": []
          },
          "execution_count": 105
        }
      ]
    },
    {
      "cell_type": "code",
      "metadata": {
        "id": "LgosWRIZxFn0"
      },
      "source": [
        "#drop missing value\n",
        "dataML=dataML.dropna()"
      ],
      "execution_count": null,
      "outputs": []
    },
    {
      "cell_type": "markdown",
      "metadata": {
        "id": "kRAWlXPN8rfU"
      },
      "source": [
        "Outlier"
      ]
    },
    {
      "cell_type": "code",
      "metadata": {
        "colab": {
          "base_uri": "https://localhost:8080/",
          "height": 382
        },
        "id": "zWST62Y8JR53",
        "outputId": "1697f58c-dd6a-44c2-a822-5ac32e921c13"
      },
      "source": [
        "import matplotlib.pyplot as plt\n",
        "plt.style.use(\"default\")\n",
        "fig, (ax1,ax2) = plt.subplots(1,2, figsize = (8,3.7))\n",
        "\n",
        "ax1.boxplot(dataML[\"Jumlah\"])\n",
        "ax1.set_title(\"Quantity\")\n",
        "ax2.boxplot(dataML[\"Harga_Satuan\"])\n",
        "ax2.set_title(\"Unit Price\")\n",
        "fig.suptitle(\"Quantity and Unit Price Outlier Analysis\")\n",
        "plt.show()"
      ],
      "execution_count": null,
      "outputs": [
        {
          "output_type": "display_data",
          "data": {
            "image/png": "[encoded data removed]",
            "text/plain": [
              "<Figure size 800x370 with 2 Axes>"
            ]
          },
          "metadata": {
            "tags": []
          }
        }
      ]
    },
    {
      "cell_type": "code",
      "metadata": {
        "colab": {
          "base_uri": "https://localhost:8080/"
        },
        "id": "mvrbHKVtASp2",
        "outputId": "8a1f6e22-42b3-4d59-e361-f3f66815fde2"
      },
      "source": [
        "#boxplot with float data\n",
        "Q1 = dataML[['Harga_Satuan','Jumlah']].quantile(0.25)\n",
        "Q3 = dataML[['Harga_Satuan','Jumlah']].quantile(0.75)\n",
        "IQR = Q3 - Q1\n",
        "\n",
        "(((dataML[['Harga_Satuan','Jumlah']] < (Q1 - 1.5 * IQR)) | (dataML[['Harga_Satuan','Jumlah']] > (Q3 + 1.5 * IQR))).sum())"
      ],
      "execution_count": null,
      "outputs": [
        {
          "output_type": "execute_result",
          "data": {
            "text/plain": [
              "Harga_Satuan    35924\n",
              "Jumlah          26437\n",
              "dtype: int64"
            ]
          },
          "metadata": {
            "tags": []
          },
          "execution_count": 108
        }
      ]
    },
    {
      "cell_type": "code",
      "metadata": {
        "colab": {
          "base_uri": "https://localhost:8080/"
        },
        "id": "2BkNgwVRCClc",
        "outputId": "2233faa6-4f05-4b69-86ad-388e1a68ea94"
      },
      "source": [
        "(((dataML[['Harga_Satuan','Jumlah']] < (Q1 - 1.5 * IQR)) | (dataML[['Harga_Satuan','Jumlah']] > (Q3 + 1.5 * IQR))).sum())/len(dataML)"
      ],
      "execution_count": null,
      "outputs": [
        {
          "output_type": "execute_result",
          "data": {
            "text/plain": [
              "Harga_Satuan    0.089101\n",
              "Jumlah          0.065571\n",
              "dtype: float64"
            ]
          },
          "metadata": {
            "tags": []
          },
          "execution_count": 109
        }
      ]
    },
    {
      "cell_type": "code",
      "metadata": {
        "id": "y2Z8QJkhEb7Q"
      },
      "source": [
        "#delete 0 and negative value\n",
        "dataML=dataML.loc[dataML['Jumlah'] >= 0]"
      ],
      "execution_count": null,
      "outputs": []
    },
    {
      "cell_type": "code",
      "metadata": {
        "id": "5hhr1ODuITnv"
      },
      "source": [
        "dataML=dataML.loc[dataML['Harga_Satuan'] >= 0]"
      ],
      "execution_count": null,
      "outputs": []
    },
    {
      "cell_type": "markdown",
      "metadata": {
        "id": "eF04-FdmIq5z"
      },
      "source": [
        "1.\tWhat items customers buy the most and are there any items we should ignore?"
      ]
    },
    {
      "cell_type": "code",
      "metadata": {
        "id": "MrQDoKnJbnvC"
      },
      "source": [
        "tingkatbar=dataML.groupby('Barang')['Jumlah'].sum()"
      ],
      "execution_count": null,
      "outputs": []
    },
    {
      "cell_type": "code",
      "metadata": {
        "colab": {
          "base_uri": "https://localhost:8080/"
        },
        "id": "kXFxNUT_eV1Z",
        "outputId": "081db3e6-de8d-40f4-de43-924f235acf66"
      },
      "source": [
        "tingkatbar.sort_values(ascending=False).head(5)"
      ],
      "execution_count": null,
      "outputs": [
        {
          "output_type": "execute_result",
          "data": {
            "text/plain": [
              "Barang\n",
              "MEDIUM CERAMIC TOP STORAGE JAR        77916.0\n",
              "WORLD WAR 2 GLIDERS ASSTD DESIGNS     54415.0\n",
              "JUMBO BAG RED RETROSPOT               46181.0\n",
              "WHITE HANGING HEART T-LIGHT HOLDER    36725.0\n",
              "ASSORTED COLOUR BIRD ORNAMENT         35362.0\n",
              "Name: Jumlah, dtype: float64"
            ]
          },
          "metadata": {
            "tags": []
          },
          "execution_count": 116
        }
      ]
    },
    {
      "cell_type": "code",
      "metadata": {
        "id": "djpJW-XicQyL",
        "colab": {
          "base_uri": "https://localhost:8080/",
          "height": 1000
        },
        "outputId": "31c68317-9ee7-46db-f6fc-f02ca632bc67"
      },
      "source": [
        "barangabai=tingkatbar.loc[tingkatbar==1]\n",
        "barangabai.to_frame()"
      ],
      "execution_count": null,
      "outputs": [
        {
          "output_type": "execute_result",
          "data": {
            "text/html": [
              "<div>\n",
              "<style scoped>\n",
              "    .dataframe tbody tr th:only-of-type {\n",
              "        vertical-align: middle;\n",
              "    }\n",
              "\n",
              "    .dataframe tbody tr th {\n",
              "        vertical-align: top;\n",
              "    }\n",
              "\n",
              "    .dataframe thead th {\n",
              "        text-align: right;\n",
              "    }\n",
              "</style>\n",
              "<table border=\"1\" class=\"dataframe\">\n",
              "  <thead>\n",
              "    <tr style=\"text-align: right;\">\n",
              "      <th></th>\n",
              "      <th>Jumlah</th>\n",
              "    </tr>\n",
              "    <tr>\n",
              "      <th>Barang</th>\n",
              "      <th></th>\n",
              "    </tr>\n",
              "  </thead>\n",
              "  <tbody>\n",
              "    <tr>\n",
              "      <th>I LOVE LONDON MINI RUCKSACK</th>\n",
              "      <td>1.0</td>\n",
              "    </tr>\n",
              "    <tr>\n",
              "      <th>AMBER BERTIE GLASS BEAD BAG CHARM</th>\n",
              "      <td>1.0</td>\n",
              "    </tr>\n",
              "    <tr>\n",
              "      <th>AMBER GLASS/SHELL/PEARL NECKLACE</th>\n",
              "      <td>1.0</td>\n",
              "    </tr>\n",
              "    <tr>\n",
              "      <th>BAROQUE BUTTERFLY EARRINGS CRYSTAL</th>\n",
              "      <td>1.0</td>\n",
              "    </tr>\n",
              "    <tr>\n",
              "      <th>BLACK DROP EARRINGS W LONG BEADS</th>\n",
              "      <td>1.0</td>\n",
              "    </tr>\n",
              "    <tr>\n",
              "      <th>BLACK FINE BEAD NECKLACE W TASSEL</th>\n",
              "      <td>1.0</td>\n",
              "    </tr>\n",
              "    <tr>\n",
              "      <th>BLACK VINT ART DEC CRYSTAL BRACELET</th>\n",
              "      <td>1.0</td>\n",
              "    </tr>\n",
              "    <tr>\n",
              "      <th>BLACKCHRISTMAS TREE 30CM</th>\n",
              "      <td>1.0</td>\n",
              "    </tr>\n",
              "    <tr>\n",
              "      <th>BLOSSOM IMAGES SCRAP BOOK SET</th>\n",
              "      <td>1.0</td>\n",
              "    </tr>\n",
              "    <tr>\n",
              "      <th>BLUE LEAVES AND BEADS PHONE CHARM</th>\n",
              "      <td>1.0</td>\n",
              "    </tr>\n",
              "    <tr>\n",
              "      <th>BLUE NEW BAROQUE FLOCK CANDLESTICK</th>\n",
              "      <td>1.0</td>\n",
              "    </tr>\n",
              "    <tr>\n",
              "      <th>BLUE PADDED SOFT MOBILE</th>\n",
              "      <td>1.0</td>\n",
              "    </tr>\n",
              "    <tr>\n",
              "      <th>BLUE/GREEN SHELL NECKLACE W PENDANT</th>\n",
              "      <td>1.0</td>\n",
              "    </tr>\n",
              "    <tr>\n",
              "      <th>BLUE/NAT SHELL NECKLACE W PENDANT</th>\n",
              "      <td>1.0</td>\n",
              "    </tr>\n",
              "    <tr>\n",
              "      <th>CAKE STAND LACE WHITE</th>\n",
              "      <td>1.0</td>\n",
              "    </tr>\n",
              "    <tr>\n",
              "      <th>CAPIZ CHANDELIER</th>\n",
              "      <td>1.0</td>\n",
              "    </tr>\n",
              "    <tr>\n",
              "      <th>CHERRY BLOSSOM PURSE</th>\n",
              "      <td>1.0</td>\n",
              "    </tr>\n",
              "    <tr>\n",
              "      <th>CRACKED GLAZE EARRINGS BROWN</th>\n",
              "      <td>1.0</td>\n",
              "    </tr>\n",
              "    <tr>\n",
              "      <th>CRACKED GLAZE EARRINGS RED</th>\n",
              "      <td>1.0</td>\n",
              "    </tr>\n",
              "    <tr>\n",
              "      <th>CROCHET DOG KEYRING</th>\n",
              "      <td>1.0</td>\n",
              "    </tr>\n",
              "    <tr>\n",
              "      <th>CROCHET LILAC/RED BEAR KEYRING</th>\n",
              "      <td>1.0</td>\n",
              "    </tr>\n",
              "    <tr>\n",
              "      <th>DOLPHIN WINDMILL</th>\n",
              "      <td>1.0</td>\n",
              "    </tr>\n",
              "    <tr>\n",
              "      <th>DUSTY PINK CHRISTMAS TREE 30CM</th>\n",
              "      <td>1.0</td>\n",
              "    </tr>\n",
              "    <tr>\n",
              "      <th>EASTER CRAFT IVY WREATH WITH CHICK</th>\n",
              "      <td>1.0</td>\n",
              "    </tr>\n",
              "    <tr>\n",
              "      <th>FIRE POLISHED GLASS BRACELET BLACK</th>\n",
              "      <td>1.0</td>\n",
              "    </tr>\n",
              "    <tr>\n",
              "      <th>FIRE POLISHED GLASS NECKL GOLD</th>\n",
              "      <td>1.0</td>\n",
              "    </tr>\n",
              "    <tr>\n",
              "      <th>FLOWER SHOP DESIGN MUG</th>\n",
              "      <td>1.0</td>\n",
              "    </tr>\n",
              "    <tr>\n",
              "      <th>FRYING PAN RED POLKADOT</th>\n",
              "      <td>1.0</td>\n",
              "    </tr>\n",
              "    <tr>\n",
              "      <th>FUNKY MONKEY MUG</th>\n",
              "      <td>1.0</td>\n",
              "    </tr>\n",
              "    <tr>\n",
              "      <th>HEN HOUSE W CHICK IN NEST</th>\n",
              "      <td>1.0</td>\n",
              "    </tr>\n",
              "    <tr>\n",
              "      <th>JADE CRYSTAL+GLASS BRACELET</th>\n",
              "      <td>1.0</td>\n",
              "    </tr>\n",
              "    <tr>\n",
              "      <th>JARDIN ETCHED GLASS BUTTER DISH</th>\n",
              "      <td>1.0</td>\n",
              "    </tr>\n",
              "    <tr>\n",
              "      <th>LASER CUT MULTI STRAND NECKLACE</th>\n",
              "      <td>1.0</td>\n",
              "    </tr>\n",
              "    <tr>\n",
              "      <th>MARIE ANTOIENETT TRINKET BOX GOLD</th>\n",
              "      <td>1.0</td>\n",
              "    </tr>\n",
              "    <tr>\n",
              "      <th>MIDNIGHT BLUE CRYSTAL DROP EARRINGS</th>\n",
              "      <td>1.0</td>\n",
              "    </tr>\n",
              "    <tr>\n",
              "      <th>MUMMY MOUSE RED GINGHAM RIBBON</th>\n",
              "      <td>1.0</td>\n",
              "    </tr>\n",
              "    <tr>\n",
              "      <th>NECKLACE+BRACELET SET PINK DAISY</th>\n",
              "      <td>1.0</td>\n",
              "    </tr>\n",
              "    <tr>\n",
              "      <th>NEW BAROQUE B'FLY NECKLACE PINK</th>\n",
              "      <td>1.0</td>\n",
              "    </tr>\n",
              "    <tr>\n",
              "      <th>ORANGE FELT VASE + FLOWERS</th>\n",
              "      <td>1.0</td>\n",
              "    </tr>\n",
              "    <tr>\n",
              "      <th>PACK 4 FLOWER/BUTTERFLY PATCHES</th>\n",
              "      <td>1.0</td>\n",
              "    </tr>\n",
              "    <tr>\n",
              "      <th>PINK CRYSTAL GUITAR PHONE CHARM</th>\n",
              "      <td>1.0</td>\n",
              "    </tr>\n",
              "    <tr>\n",
              "      <th>PINK POLKADOT KIDS BAG</th>\n",
              "      <td>1.0</td>\n",
              "    </tr>\n",
              "    <tr>\n",
              "      <th>POTTING SHED SOW 'N' GROW SET</th>\n",
              "      <td>1.0</td>\n",
              "    </tr>\n",
              "    <tr>\n",
              "      <th>PURPLE CHUNKY GLASS+BEAD NECKLACE</th>\n",
              "      <td>1.0</td>\n",
              "    </tr>\n",
              "    <tr>\n",
              "      <th>PURPLE FRANGIPANI HAIRCLIP</th>\n",
              "      <td>1.0</td>\n",
              "    </tr>\n",
              "    <tr>\n",
              "      <th>RUBY GLASS CLUSTER EARRINGS</th>\n",
              "      <td>1.0</td>\n",
              "    </tr>\n",
              "    <tr>\n",
              "      <th>SCALLOP SHELL SOAP DISH</th>\n",
              "      <td>1.0</td>\n",
              "    </tr>\n",
              "    <tr>\n",
              "      <th>SET 10 CARDS HANGING BAUBLES 17080</th>\n",
              "      <td>1.0</td>\n",
              "    </tr>\n",
              "    <tr>\n",
              "      <th>SET 12 COLOURING PENCILS DOILEY</th>\n",
              "      <td>1.0</td>\n",
              "    </tr>\n",
              "    <tr>\n",
              "      <th>SET 36 COLOURING PENCILS DOILEY</th>\n",
              "      <td>1.0</td>\n",
              "    </tr>\n",
              "    <tr>\n",
              "      <th>SET OF 3 PINK FLYING DUCKS</th>\n",
              "      <td>1.0</td>\n",
              "    </tr>\n",
              "    <tr>\n",
              "      <th>SET/3 FLORAL GARDEN TOOLS IN BAG</th>\n",
              "      <td>1.0</td>\n",
              "    </tr>\n",
              "    <tr>\n",
              "      <th>SET/3 TALL GLASS CANDLE HOLDER PINK</th>\n",
              "      <td>1.0</td>\n",
              "    </tr>\n",
              "    <tr>\n",
              "      <th>SET/6 IVORY BIRD T-LIGHT CANDLES</th>\n",
              "      <td>1.0</td>\n",
              "    </tr>\n",
              "    <tr>\n",
              "      <th>SILVER AND BLACK ORBIT NECKLACE</th>\n",
              "      <td>1.0</td>\n",
              "    </tr>\n",
              "    <tr>\n",
              "      <th>TEA TIME BREAKFAST BASKET</th>\n",
              "      <td>1.0</td>\n",
              "    </tr>\n",
              "    <tr>\n",
              "      <th>VINTAGE BEAD PINK JEWEL STAND</th>\n",
              "      <td>1.0</td>\n",
              "    </tr>\n",
              "    <tr>\n",
              "      <th>WHITE ROSEBUD  PEARL EARRINGS</th>\n",
              "      <td>1.0</td>\n",
              "    </tr>\n",
              "    <tr>\n",
              "      <th>WHITE STONE/CRYSTAL EARRINGS</th>\n",
              "      <td>1.0</td>\n",
              "    </tr>\n",
              "  </tbody>\n",
              "</table>\n",
              "</div>"
            ],
            "text/plain": [
              "                                     Jumlah\n",
              "Barang                                     \n",
              " I LOVE LONDON MINI RUCKSACK            1.0\n",
              "AMBER BERTIE GLASS BEAD BAG CHARM       1.0\n",
              "AMBER GLASS/SHELL/PEARL NECKLACE        1.0\n",
              "BAROQUE BUTTERFLY EARRINGS CRYSTAL      1.0\n",
              "BLACK DROP EARRINGS W LONG BEADS        1.0\n",
              "BLACK FINE BEAD NECKLACE W TASSEL       1.0\n",
              "BLACK VINT ART DEC CRYSTAL BRACELET     1.0\n",
              "BLACKCHRISTMAS TREE 30CM                1.0\n",
              "BLOSSOM IMAGES SCRAP BOOK SET           1.0\n",
              "BLUE LEAVES AND BEADS PHONE CHARM       1.0\n",
              "BLUE NEW BAROQUE FLOCK CANDLESTICK      1.0\n",
              "BLUE PADDED SOFT MOBILE                 1.0\n",
              "BLUE/GREEN SHELL NECKLACE W PENDANT     1.0\n",
              "BLUE/NAT SHELL NECKLACE W PENDANT       1.0\n",
              "CAKE STAND LACE WHITE                   1.0\n",
              "CAPIZ CHANDELIER                        1.0\n",
              "CHERRY BLOSSOM PURSE                    1.0\n",
              "CRACKED GLAZE EARRINGS BROWN            1.0\n",
              "CRACKED GLAZE EARRINGS RED              1.0\n",
              "CROCHET DOG KEYRING                     1.0\n",
              "CROCHET LILAC/RED BEAR KEYRING          1.0\n",
              "DOLPHIN WINDMILL                        1.0\n",
              "DUSTY PINK CHRISTMAS TREE 30CM          1.0\n",
              "EASTER CRAFT IVY WREATH WITH CHICK      1.0\n",
              "FIRE POLISHED GLASS BRACELET BLACK      1.0\n",
              "FIRE POLISHED GLASS NECKL GOLD          1.0\n",
              "FLOWER SHOP DESIGN MUG                  1.0\n",
              "FRYING PAN RED POLKADOT                 1.0\n",
              "FUNKY MONKEY MUG                        1.0\n",
              "HEN HOUSE W CHICK IN NEST               1.0\n",
              "JADE CRYSTAL+GLASS BRACELET             1.0\n",
              "JARDIN ETCHED GLASS BUTTER DISH         1.0\n",
              "LASER CUT MULTI STRAND NECKLACE         1.0\n",
              "MARIE ANTOIENETT TRINKET BOX GOLD       1.0\n",
              "MIDNIGHT BLUE CRYSTAL DROP EARRINGS     1.0\n",
              "MUMMY MOUSE RED GINGHAM RIBBON          1.0\n",
              "NECKLACE+BRACELET SET PINK DAISY        1.0\n",
              "NEW BAROQUE B'FLY NECKLACE PINK         1.0\n",
              "ORANGE FELT VASE + FLOWERS              1.0\n",
              "PACK 4 FLOWER/BUTTERFLY PATCHES         1.0\n",
              "PINK CRYSTAL GUITAR PHONE CHARM         1.0\n",
              "PINK POLKADOT KIDS BAG                  1.0\n",
              "POTTING SHED SOW 'N' GROW SET           1.0\n",
              "PURPLE CHUNKY GLASS+BEAD NECKLACE       1.0\n",
              "PURPLE FRANGIPANI HAIRCLIP              1.0\n",
              "RUBY GLASS CLUSTER EARRINGS             1.0\n",
              "SCALLOP SHELL SOAP DISH                 1.0\n",
              "SET 10 CARDS HANGING BAUBLES 17080      1.0\n",
              "SET 12 COLOURING PENCILS DOILEY         1.0\n",
              "SET 36 COLOURING PENCILS DOILEY         1.0\n",
              "SET OF 3 PINK FLYING DUCKS              1.0\n",
              "SET/3 FLORAL GARDEN TOOLS IN BAG        1.0\n",
              "SET/3 TALL GLASS CANDLE HOLDER PINK     1.0\n",
              "SET/6 IVORY BIRD T-LIGHT CANDLES        1.0\n",
              "SILVER AND BLACK ORBIT NECKLACE         1.0\n",
              "TEA TIME BREAKFAST BASKET               1.0\n",
              "VINTAGE BEAD PINK JEWEL STAND           1.0\n",
              "WHITE ROSEBUD  PEARL EARRINGS           1.0\n",
              "WHITE STONE/CRYSTAL EARRINGS            1.0"
            ]
          },
          "metadata": {
            "tags": []
          },
          "execution_count": 127
        }
      ]
    },
    {
      "cell_type": "markdown",
      "metadata": {
        "id": "liMBVgFMRQqz"
      },
      "source": [
        "2.\tWhat is our strategy to increase sales based on our export destination countries?"
      ]
    },
    {
      "cell_type": "code",
      "metadata": {
        "colab": {
          "base_uri": "https://localhost:8080/",
          "height": 394
        },
        "id": "DCTZzWItRtQl",
        "outputId": "dab87afa-6c13-4985-9b5f-eb835ccc6034"
      },
      "source": [
        "ngrtujuan=dataML.groupby('Negara')[['Jumlah']].sum()\n",
        "ngrtujuan.sort_values('Jumlah', ascending=True).head(10)"
      ],
      "execution_count": null,
      "outputs": [
        {
          "output_type": "execute_result",
          "data": {
            "text/html": [
              "<div>\n",
              "<style scoped>\n",
              "    .dataframe tbody tr th:only-of-type {\n",
              "        vertical-align: middle;\n",
              "    }\n",
              "\n",
              "    .dataframe tbody tr th {\n",
              "        vertical-align: top;\n",
              "    }\n",
              "\n",
              "    .dataframe thead th {\n",
              "        text-align: right;\n",
              "    }\n",
              "</style>\n",
              "<table border=\"1\" class=\"dataframe\">\n",
              "  <thead>\n",
              "    <tr style=\"text-align: right;\">\n",
              "      <th></th>\n",
              "      <th>Jumlah</th>\n",
              "    </tr>\n",
              "    <tr>\n",
              "      <th>Negara</th>\n",
              "      <th></th>\n",
              "    </tr>\n",
              "  </thead>\n",
              "  <tbody>\n",
              "    <tr>\n",
              "      <th>Saudi Arabia</th>\n",
              "      <td>80.0</td>\n",
              "    </tr>\n",
              "    <tr>\n",
              "      <th>Bahrain</th>\n",
              "      <td>260.0</td>\n",
              "    </tr>\n",
              "    <tr>\n",
              "      <th>RSA</th>\n",
              "      <td>352.0</td>\n",
              "    </tr>\n",
              "    <tr>\n",
              "      <th>Brazil</th>\n",
              "      <td>356.0</td>\n",
              "    </tr>\n",
              "    <tr>\n",
              "      <th>Lebanon</th>\n",
              "      <td>386.0</td>\n",
              "    </tr>\n",
              "    <tr>\n",
              "      <th>European Community</th>\n",
              "      <td>499.0</td>\n",
              "    </tr>\n",
              "    <tr>\n",
              "      <th>Lithuania</th>\n",
              "      <td>652.0</td>\n",
              "    </tr>\n",
              "    <tr>\n",
              "      <th>Czech Republic</th>\n",
              "      <td>671.0</td>\n",
              "    </tr>\n",
              "    <tr>\n",
              "      <th>Malta</th>\n",
              "      <td>958.0</td>\n",
              "    </tr>\n",
              "    <tr>\n",
              "      <th>United Arab Emirates</th>\n",
              "      <td>970.0</td>\n",
              "    </tr>\n",
              "  </tbody>\n",
              "</table>\n",
              "</div>"
            ],
            "text/plain": [
              "                      Jumlah\n",
              "Negara                      \n",
              "Saudi Arabia            80.0\n",
              "Bahrain                260.0\n",
              "RSA                    352.0\n",
              "Brazil                 356.0\n",
              "Lebanon                386.0\n",
              "European Community     499.0\n",
              "Lithuania              652.0\n",
              "Czech Republic         671.0\n",
              "Malta                  958.0\n",
              "United Arab Emirates   970.0"
            ]
          },
          "metadata": {
            "tags": []
          },
          "execution_count": 146
        }
      ]
    },
    {
      "cell_type": "markdown",
      "metadata": {
        "id": "MvY9L5c-aFYc"
      },
      "source": [
        "3.\tDo customer segmentation appropriately. Please explain in detail and completely"
      ]
    },
    {
      "cell_type": "code",
      "metadata": {
        "colab": {
          "base_uri": "https://localhost:8080/",
          "height": 206
        },
        "id": "mrW5NhIISRC_",
        "outputId": "f7cd0474-81db-4ac9-b0ca-58e42f720955"
      },
      "source": [
        "dataML.head()"
      ],
      "execution_count": null,
      "outputs": [
        {
          "output_type": "execute_result",
          "data": {
            "text/html": [
              "<div>\n",
              "<style scoped>\n",
              "    .dataframe tbody tr th:only-of-type {\n",
              "        vertical-align: middle;\n",
              "    }\n",
              "\n",
              "    .dataframe tbody tr th {\n",
              "        vertical-align: top;\n",
              "    }\n",
              "\n",
              "    .dataframe thead th {\n",
              "        text-align: right;\n",
              "    }\n",
              "</style>\n",
              "<table border=\"1\" class=\"dataframe\">\n",
              "  <thead>\n",
              "    <tr style=\"text-align: right;\">\n",
              "      <th></th>\n",
              "      <th>Kode_Bayar</th>\n",
              "      <th>Kode_Barang</th>\n",
              "      <th>Barang</th>\n",
              "      <th>Jumlah</th>\n",
              "      <th>Tanggal_Transaksi</th>\n",
              "      <th>Harga_Satuan</th>\n",
              "      <th>Kode_Pelanggan</th>\n",
              "      <th>Negara</th>\n",
              "    </tr>\n",
              "  </thead>\n",
              "  <tbody>\n",
              "    <tr>\n",
              "      <th>0</th>\n",
              "      <td>536365</td>\n",
              "      <td>85123A</td>\n",
              "      <td>WHITE HANGING HEART T-LIGHT HOLDER</td>\n",
              "      <td>6.0</td>\n",
              "      <td>2010-12-01 08:26:00</td>\n",
              "      <td>2.55</td>\n",
              "      <td>17850.0</td>\n",
              "      <td>United Kingdom</td>\n",
              "    </tr>\n",
              "    <tr>\n",
              "      <th>1</th>\n",
              "      <td>536365</td>\n",
              "      <td>71053</td>\n",
              "      <td>WHITE METAL LANTERN</td>\n",
              "      <td>6.0</td>\n",
              "      <td>2010-12-01 08:26:00</td>\n",
              "      <td>3.39</td>\n",
              "      <td>17850.0</td>\n",
              "      <td>United Kingdom</td>\n",
              "    </tr>\n",
              "    <tr>\n",
              "      <th>2</th>\n",
              "      <td>536365</td>\n",
              "      <td>84406B</td>\n",
              "      <td>CREAM CUPID HEARTS COAT HANGER</td>\n",
              "      <td>8.0</td>\n",
              "      <td>2010-12-01 08:26:00</td>\n",
              "      <td>2.75</td>\n",
              "      <td>17850.0</td>\n",
              "      <td>United Kingdom</td>\n",
              "    </tr>\n",
              "    <tr>\n",
              "      <th>3</th>\n",
              "      <td>536365</td>\n",
              "      <td>84029G</td>\n",
              "      <td>KNITTED UNION FLAG HOT WATER BOTTLE</td>\n",
              "      <td>6.0</td>\n",
              "      <td>2010-12-01 08:26:00</td>\n",
              "      <td>3.39</td>\n",
              "      <td>17850.0</td>\n",
              "      <td>United Kingdom</td>\n",
              "    </tr>\n",
              "    <tr>\n",
              "      <th>4</th>\n",
              "      <td>536365</td>\n",
              "      <td>84029E</td>\n",
              "      <td>RED WOOLLY HOTTIE WHITE HEART.</td>\n",
              "      <td>6.0</td>\n",
              "      <td>2010-12-01 08:26:00</td>\n",
              "      <td>3.39</td>\n",
              "      <td>17850.0</td>\n",
              "      <td>United Kingdom</td>\n",
              "    </tr>\n",
              "  </tbody>\n",
              "</table>\n",
              "</div>"
            ],
            "text/plain": [
              "  Kode_Bayar Kode_Barang  ... Kode_Pelanggan          Negara\n",
              "0     536365      85123A  ...        17850.0  United Kingdom\n",
              "1     536365       71053  ...        17850.0  United Kingdom\n",
              "2     536365      84406B  ...        17850.0  United Kingdom\n",
              "3     536365      84029G  ...        17850.0  United Kingdom\n",
              "4     536365      84029E  ...        17850.0  United Kingdom\n",
              "\n",
              "[5 rows x 8 columns]"
            ]
          },
          "metadata": {
            "tags": []
          },
          "execution_count": 154
        }
      ]
    },
    {
      "cell_type": "code",
      "metadata": {
        "id": "CvQ_KZw1aKnP"
      },
      "source": [
        "#Variable sales amount and total price for each customer\n",
        "dataseg=dataML.groupby('Kode_Pelanggan')[['Jumlah']].sum()\n",
        "dataseg['Pengeluaran_Pelanggan']=dataML.groupby('Kode_Pelanggan')[['Harga_Satuan']].sum()"
      ],
      "execution_count": null,
      "outputs": []
    },
    {
      "cell_type": "code",
      "metadata": {
        "colab": {
          "base_uri": "https://localhost:8080/",
          "height": 497
        },
        "id": "ncWJ1cmLa9VM",
        "outputId": "ecba7273-a122-4724-eb10-01b39c56f467"
      },
      "source": [
        "#check corelation 2 variable\n",
        "corr=dataseg.corr()\n",
        "sns.heatmap(corr)"
      ],
      "execution_count": null,
      "outputs": [
        {
          "output_type": "execute_result",
          "data": {
            "text/plain": [
              "<matplotlib.axes._subplots.AxesSubplot at 0x7f4e8786f4d0>"
            ]
          },
          "metadata": {
            "tags": []
          },
          "execution_count": 161
        },
        {
          "output_type": "display_data",
          "data": {
            "image/png": "[encoded data removed]",
            "text/plain": [
              "<Figure size 640x480 with 2 Axes>"
            ]
          },
          "metadata": {
            "tags": []
          }
        }
      ]
    },
    {
      "cell_type": "code",
      "metadata": {
        "colab": {
          "base_uri": "https://localhost:8080/",
          "height": 521
        },
        "id": "8cIdEDmBdXKx",
        "outputId": "7df29439-85f1-4c5c-aef3-38aad486ba99"
      },
      "source": [
        "#Plotting the data\n",
        "sns.scatterplot(dataseg['Jumlah'],dataseg['Pengeluaran_Pelanggan'])"
      ],
      "execution_count": null,
      "outputs": [
        {
          "output_type": "stream",
          "text": [
            "/usr/local/lib/python3.7/dist-packages/seaborn/_decorators.py:43: FutureWarning: Pass the following variables as keyword args: x, y. From version 0.12, the only valid positional argument will be `data`, and passing other arguments without an explicit keyword will result in an error or misinterpretation.\n",
            "  FutureWarning\n"
          ],
          "name": "stderr"
        },
        {
          "output_type": "execute_result",
          "data": {
            "text/plain": [
              "<matplotlib.axes._subplots.AxesSubplot at 0x7f4e8fbd9b10>"
            ]
          },
          "metadata": {
            "tags": []
          },
          "execution_count": 165
        },
        {
          "output_type": "display_data",
          "data": {
            "image/png": "[encoded data removed]",
            "text/plain": [
              "<Figure size 640x480 with 1 Axes>"
            ]
          },
          "metadata": {
            "tags": []
          }
        }
      ]
    },
    {
      "cell_type": "code",
      "metadata": {
        "id": "nuhiX1vsbMnP"
      },
      "source": [
        "#modeling K-Means\n",
        "from sklearn.cluster import KMeans\n",
        "from sklearn.metrics import silhouette_score\n",
        "\n",
        "num_clusters = 2\n",
        "kmeans_model = KMeans(n_clusters=num_clusters, random_state=1).fit(dataseg)\n",
        "cluster_labels = kmeans_model.labels_"
      ],
      "execution_count": null,
      "outputs": []
    },
    {
      "cell_type": "code",
      "metadata": {
        "colab": {
          "base_uri": "https://localhost:8080/"
        },
        "id": "6hRGdI4KdSPG",
        "outputId": "61465488-1454-46cf-ab67-ec36fe00ba12"
      },
      "source": [
        "#model evaluaion\n",
        "print(f'Silhouette Score(Cluster = 2): {silhouette_score(dataseg, cluster_labels)}')"
      ],
      "execution_count": null,
      "outputs": [
        {
          "output_type": "stream",
          "text": [
            "Silhouette Score(Cluster = 2): 0.9780361487279027\n"
          ],
          "name": "stdout"
        }
      ]
    },
    {
      "cell_type": "code",
      "metadata": {
        "colab": {
          "base_uri": "https://localhost:8080/",
          "height": 521
        },
        "id": "az5sKDuxew7K",
        "outputId": "5406ddf3-b5b3-4779-f49c-f18902f94c21"
      },
      "source": [
        "# plot cluster\n",
        "sns.scatterplot(dataseg['Jumlah'],dataseg['Pengeluaran_Pelanggan'],hue=cluster_labels)"
      ],
      "execution_count": null,
      "outputs": [
        {
          "output_type": "stream",
          "text": [
            "/usr/local/lib/python3.7/dist-packages/seaborn/_decorators.py:43: FutureWarning: Pass the following variables as keyword args: x, y. From version 0.12, the only valid positional argument will be `data`, and passing other arguments without an explicit keyword will result in an error or misinterpretation.\n",
            "  FutureWarning\n"
          ],
          "name": "stderr"
        },
        {
          "output_type": "execute_result",
          "data": {
            "text/plain": [
              "<matplotlib.axes._subplots.AxesSubplot at 0x7f4e92dea650>"
            ]
          },
          "metadata": {
            "tags": []
          },
          "execution_count": 190
        },
        {
          "output_type": "display_data",
          "data": {
            "image/png": "[encoded data removed]",
            "text/plain": [
              "<Figure size 640x480 with 1 Axes>"
            ]
          },
          "metadata": {
            "tags": []
          }
        }
      ]
    },
    {
      "cell_type": "code",
      "metadata": {
        "id": "fKi3jqqlgmBV"
      },
      "source": [
        "#character each cluster\n",
        "dataseg['label']=cluster_labels\n",
        "dataseg1=dataseg.loc[dataseg['label']==1]\n",
        "dataseg0=dataseg.loc[dataseg['label']==0]"
      ],
      "execution_count": null,
      "outputs": []
    },
    {
      "cell_type": "code",
      "metadata": {
        "colab": {
          "base_uri": "https://localhost:8080/",
          "height": 300
        },
        "id": "FWn26y9dg0xw",
        "outputId": "974a78f9-47b9-47e4-9334-ffc8c218db08"
      },
      "source": [
        "dataseg1.describe()"
      ],
      "execution_count": null,
      "outputs": [
        {
          "output_type": "execute_result",
          "data": {
            "text/html": [
              "<div>\n",
              "<style scoped>\n",
              "    .dataframe tbody tr th:only-of-type {\n",
              "        vertical-align: middle;\n",
              "    }\n",
              "\n",
              "    .dataframe tbody tr th {\n",
              "        vertical-align: top;\n",
              "    }\n",
              "\n",
              "    .dataframe thead th {\n",
              "        text-align: right;\n",
              "    }\n",
              "</style>\n",
              "<table border=\"1\" class=\"dataframe\">\n",
              "  <thead>\n",
              "    <tr style=\"text-align: right;\">\n",
              "      <th></th>\n",
              "      <th>Jumlah</th>\n",
              "      <th>Pengeluaran_Pelanggan</th>\n",
              "      <th>label</th>\n",
              "    </tr>\n",
              "  </thead>\n",
              "  <tbody>\n",
              "    <tr>\n",
              "      <th>count</th>\n",
              "      <td>4324.000000</td>\n",
              "      <td>4324.000000</td>\n",
              "      <td>4324.0</td>\n",
              "    </tr>\n",
              "    <tr>\n",
              "      <th>mean</th>\n",
              "      <td>952.862858</td>\n",
              "      <td>270.826849</td>\n",
              "      <td>1.0</td>\n",
              "    </tr>\n",
              "    <tr>\n",
              "      <th>std</th>\n",
              "      <td>2131.592016</td>\n",
              "      <td>759.146011</td>\n",
              "      <td>0.0</td>\n",
              "    </tr>\n",
              "    <tr>\n",
              "      <th>min</th>\n",
              "      <td>1.000000</td>\n",
              "      <td>0.000000</td>\n",
              "      <td>1.0</td>\n",
              "    </tr>\n",
              "    <tr>\n",
              "      <th>25%</th>\n",
              "      <td>158.000000</td>\n",
              "      <td>51.345000</td>\n",
              "      <td>1.0</td>\n",
              "    </tr>\n",
              "    <tr>\n",
              "      <th>50%</th>\n",
              "      <td>374.500000</td>\n",
              "      <td>126.000000</td>\n",
              "      <td>1.0</td>\n",
              "    </tr>\n",
              "    <tr>\n",
              "      <th>75%</th>\n",
              "      <td>968.500000</td>\n",
              "      <td>289.875000</td>\n",
              "      <td>1.0</td>\n",
              "    </tr>\n",
              "    <tr>\n",
              "      <th>max</th>\n",
              "      <td>33704.000000</td>\n",
              "      <td>33189.950000</td>\n",
              "      <td>1.0</td>\n",
              "    </tr>\n",
              "  </tbody>\n",
              "</table>\n",
              "</div>"
            ],
            "text/plain": [
              "             Jumlah  Pengeluaran_Pelanggan   label\n",
              "count   4324.000000            4324.000000  4324.0\n",
              "mean     952.862858             270.826849     1.0\n",
              "std     2131.592016             759.146011     0.0\n",
              "min        1.000000               0.000000     1.0\n",
              "25%      158.000000              51.345000     1.0\n",
              "50%      374.500000             126.000000     1.0\n",
              "75%      968.500000             289.875000     1.0\n",
              "max    33704.000000           33189.950000     1.0"
            ]
          },
          "metadata": {
            "tags": []
          },
          "execution_count": 195
        }
      ]
    },
    {
      "cell_type": "code",
      "metadata": {
        "colab": {
          "base_uri": "https://localhost:8080/",
          "height": 300
        },
        "id": "mw25XLmxhDwr",
        "outputId": "3d334c1b-33c6-44e2-bfa5-c4378e15adf2"
      },
      "source": [
        "dataseg0.describe()"
      ],
      "execution_count": null,
      "outputs": [
        {
          "output_type": "execute_result",
          "data": {
            "text/html": [
              "<div>\n",
              "<style scoped>\n",
              "    .dataframe tbody tr th:only-of-type {\n",
              "        vertical-align: middle;\n",
              "    }\n",
              "\n",
              "    .dataframe tbody tr th {\n",
              "        vertical-align: top;\n",
              "    }\n",
              "\n",
              "    .dataframe thead th {\n",
              "        text-align: right;\n",
              "    }\n",
              "</style>\n",
              "<table border=\"1\" class=\"dataframe\">\n",
              "  <thead>\n",
              "    <tr style=\"text-align: right;\">\n",
              "      <th></th>\n",
              "      <th>Jumlah</th>\n",
              "      <th>Pengeluaran_Pelanggan</th>\n",
              "      <th>label</th>\n",
              "    </tr>\n",
              "  </thead>\n",
              "  <tbody>\n",
              "    <tr>\n",
              "      <th>count</th>\n",
              "      <td>13.000000</td>\n",
              "      <td>13.000000</td>\n",
              "      <td>13.0</td>\n",
              "    </tr>\n",
              "    <tr>\n",
              "      <th>mean</th>\n",
              "      <td>71232.384615</td>\n",
              "      <td>4814.116154</td>\n",
              "      <td>0.0</td>\n",
              "    </tr>\n",
              "    <tr>\n",
              "      <th>std</th>\n",
              "      <td>39577.386331</td>\n",
              "      <td>6881.118468</td>\n",
              "      <td>0.0</td>\n",
              "    </tr>\n",
              "    <tr>\n",
              "      <th>min</th>\n",
              "      <td>38083.000000</td>\n",
              "      <td>1.040000</td>\n",
              "      <td>0.0</td>\n",
              "    </tr>\n",
              "    <tr>\n",
              "      <th>25%</th>\n",
              "      <td>56141.000000</td>\n",
              "      <td>1143.320000</td>\n",
              "      <td>0.0</td>\n",
              "    </tr>\n",
              "    <tr>\n",
              "      <th>50%</th>\n",
              "      <td>64124.000000</td>\n",
              "      <td>2219.550000</td>\n",
              "      <td>0.0</td>\n",
              "    </tr>\n",
              "    <tr>\n",
              "      <th>75%</th>\n",
              "      <td>74215.000000</td>\n",
              "      <td>5328.170000</td>\n",
              "      <td>0.0</td>\n",
              "    </tr>\n",
              "    <tr>\n",
              "      <th>max</th>\n",
              "      <td>195715.000000</td>\n",
              "      <td>26119.460000</td>\n",
              "      <td>0.0</td>\n",
              "    </tr>\n",
              "  </tbody>\n",
              "</table>\n",
              "</div>"
            ],
            "text/plain": [
              "              Jumlah  Pengeluaran_Pelanggan  label\n",
              "count      13.000000              13.000000   13.0\n",
              "mean    71232.384615            4814.116154    0.0\n",
              "std     39577.386331            6881.118468    0.0\n",
              "min     38083.000000               1.040000    0.0\n",
              "25%     56141.000000            1143.320000    0.0\n",
              "50%     64124.000000            2219.550000    0.0\n",
              "75%     74215.000000            5328.170000    0.0\n",
              "max    195715.000000           26119.460000    0.0"
            ]
          },
          "metadata": {
            "tags": []
          },
          "execution_count": 197
        }
      ]
    },
    {
      "cell_type": "markdown",
      "metadata": {
        "id": "y_KmHZTknFxf"
      },
      "source": [
        "4.\tGet the hidden insight from the data"
      ]
    },
    {
      "cell_type": "markdown",
      "metadata": {
        "id": "yWuT5XGssgxV"
      },
      "source": [
        "See the month with the most sales"
      ]
    },
    {
      "cell_type": "code",
      "metadata": {
        "id": "_3qlbkcdrpxj"
      },
      "source": [
        "#change to month data\n",
        "dataML['Bulan_Transaksi']=dataML['Tanggal_Transaksi'].dt.month"
      ],
      "execution_count": null,
      "outputs": []
    },
    {
      "cell_type": "code",
      "metadata": {
        "colab": {
          "base_uri": "https://localhost:8080/",
          "height": 489
        },
        "id": "JGWnDd3HsdQ7",
        "outputId": "fda3fe37-ce13-4dbc-dc8e-c838c386ede4"
      },
      "source": [
        "#plot team based on goals conceded\n",
        "sns.barplot(data=dataML, x=\"Bulan_Transaksi\", y=\"Jumlah\").set(title='Sales Month')"
      ],
      "execution_count": null,
      "outputs": [
        {
          "output_type": "execute_result",
          "data": {
            "text/plain": [
              "[Text(0.5, 1.0, 'Sales Month')]"
            ]
          },
          "metadata": {
            "tags": []
          },
          "execution_count": 205
        },
        {
          "output_type": "display_data",
          "data": {
            "image/png": "[encoded data removed]",
            "text/plain": [
              "<Figure size 640x480 with 1 Axes>"
            ]
          },
          "metadata": {
            "tags": []
          }
        }
      ]
    }
  ]
}